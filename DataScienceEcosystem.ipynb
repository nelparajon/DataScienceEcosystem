{
 "cells": [
  {
   "cell_type": "markdown",
   "id": "3aef9eec-1814-4741-82b6-6cf0fa3368df",
   "metadata": {},
   "source": [
    "Data Science Tools and Ecosystem"
   ]
  },
  {
   "cell_type": "markdown",
   "id": "267df676-7a9a-4642-86e7-e96a0850788a",
   "metadata": {},
   "source": [
    "In this notebook, Data Science Tools and Ecosystem are summarized."
   ]
  },
  {
   "cell_type": "markdown",
   "id": "82af5cff-51f7-4af0-a96a-cc627b7d58fb",
   "metadata": {},
   "source": [
    "Some of the popular languages that Data Scientists use are:\n"
   ]
  },
  {
   "cell_type": "markdown",
   "id": "24eda6a8-7592-46dd-a859-1b917bd31b74",
   "metadata": {},
   "source": [
    "1. Python\n",
    "2. R\n",
    "3. SQL"
   ]
  },
  {
   "cell_type": "markdown",
   "id": "985b3db1-9afb-4450-b211-842489f69120",
   "metadata": {},
   "source": [
    "Some of the commonly used libraries used by Data Scientists include:"
   ]
  },
  {
   "cell_type": "markdown",
   "id": "1710529e-e19e-464f-afc5-95c474c4e9c7",
   "metadata": {},
   "source": [
    "1. Pandas\n",
    "2. Matplotlib\n",
    "3. Scipy"
   ]
  },
  {
   "cell_type": "markdown",
   "id": "eb086eba-458a-4026-8998-eb7470e6365d",
   "metadata": {},
   "source": [
    "| Data Science Tools         |\n",
    "|----------------------------|\n",
    "| Jupyter Notebook           |\n",
    "| RStudio                    |\n",
    "| Apache Zeppelin            |\n"
   ]
  },
  {
   "cell_type": "markdown",
   "id": "35c8f632-4acc-4d76-a8dd-1991d62ed54b",
   "metadata": {},
   "source": [
    "### Below are a few examples of evaluating arithmetic expressions in Python.\n",
    "\n",
    "Arithmetic expressions in Python allow us to perform mathematical operations such as addition, subtraction, multiplication, and division. Here are a few examples:\n"
   ]
  },
  {
   "cell_type": "code",
   "execution_count": 5,
   "id": "dd6e67e1-a05b-417b-926c-17d645ac478e",
   "metadata": {},
   "outputs": [
    {
     "data": {
      "text/plain": [
       "17"
      ]
     },
     "execution_count": 5,
     "metadata": {},
     "output_type": "execute_result"
    }
   ],
   "source": [
    "# This is a simple arithmetic expression to multiply then add integers\n",
    "(3 * 4) + 5\n"
   ]
  },
  {
   "cell_type": "code",
   "execution_count": 6,
   "id": "678625ba-6bac-437f-bda8-ee263e530735",
   "metadata": {},
   "outputs": [
    {
     "data": {
      "text/plain": [
       "3.3333333333333335"
      ]
     },
     "execution_count": 6,
     "metadata": {},
     "output_type": "execute_result"
    }
   ],
   "source": [
    "# This will convert 200 minutes to hours by dividing by 60\n",
    "200 / 60\n"
   ]
  },
  {
   "cell_type": "markdown",
   "id": "b83cda55-019f-4e05-9803-c126c470552d",
   "metadata": {},
   "source": [
    "**Objectives:**\n",
    "\n",
    "- List popular languages for Data Science\n",
    "- Demonstrate basic arithmetic expressions in Python\n",
    "- Introduce common data science development tools\n",
    "- Convert time units using simple Python expressions\n",
    "- Explain key programming concepts for Data Science\n"
   ]
  },
  {
   "cell_type": "markdown",
   "id": "3b5944b9-68b0-426c-92c3-110f4a0f0afb",
   "metadata": {},
   "source": [
    "## Author\n",
    "Nel"
   ]
  },
  {
   "cell_type": "code",
   "execution_count": null,
   "id": "7c83e19a-faaa-4c66-a0ef-e869c61b0a64",
   "metadata": {},
   "outputs": [],
   "source": []
  }
 ],
 "metadata": {
  "kernelspec": {
   "display_name": "Python 3 (ipykernel)",
   "language": "python",
   "name": "python3"
  },
  "language_info": {
   "codemirror_mode": {
    "name": "ipython",
    "version": 3
   },
   "file_extension": ".py",
   "mimetype": "text/x-python",
   "name": "python",
   "nbconvert_exporter": "python",
   "pygments_lexer": "ipython3",
   "version": "3.12.0"
  }
 },
 "nbformat": 4,
 "nbformat_minor": 5
}
